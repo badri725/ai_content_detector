{
  "nbformat": 4,
  "nbformat_minor": 0,
  "metadata": {
    "colab": {
      "provenance": [],
      "gpuType": "T4"
    },
    "kernelspec": {
      "name": "python3",
      "display_name": "Python 3"
    },
    "language_info": {
      "name": "python"
    },
    "accelerator": "GPU"
  },
  "cells": [
    {
      "cell_type": "code",
      "source": [
        "# 📦 Step 1: Install required libraries\n",
        "!pip install -q transformers pandas torch\n",
        "\n",
        "# 📌 Step 2: Import libraries\n",
        "import pandas as pd\n",
        "from transformers import pipeline\n",
        "\n",
        "# 📌 Step 3: Load your comment dataset\n",
        "# Replace with your actual file path if different\n",
        "df = pd.read_csv(\"/content/sample traing data.csv\")  # Make sure your file is uploaded in Colab\n",
        "print(\"✅ File loaded.\")\n",
        "print(df.head())\n",
        "\n",
        "# 📌 Step 4: Load the pre-trained toxic content classification model from Hugging Face\n",
        "print(\"⏳ Loading model...\")\n",
        "moderator = pipeline(\"text-classification\", model=\"unitary/toxic-bert\")\n",
        "print(\"✅ Model loaded.\")\n",
        "\n",
        "# 📌 Step 5: Define classification function\n",
        "def classify_comment(comment):\n",
        "    try:\n",
        "        # Truncate comment to 512 tokens (model limit)\n",
        "        result = moderator(comment[:512])[0]\n",
        "        label = result['label']\n",
        "        score = result['score']\n",
        "        return f\"{label} ({round(score, 2)})\"\n",
        "    except Exception as e:\n",
        "        print(f\"⚠️ Error on comment: {comment}\\n{e}\")\n",
        "        return \"Error\"\n",
        "\n",
        "# 📌 Step 6: Apply function to the DataFrame\n",
        "df[\"Moderation_Result\"] = df[\"comment_text\"].apply(classify_comment)\n",
        "\n",
        "# 📌 Step 7: Save the output\n",
        "df.to_csv(\"moderated_comments_bert.csv\", index=False)\n",
        "df.to_excel(\"moderated_comments_bert.xlsx\", index=False)\n",
        "\n",
        "print(\"✅ Done! Files saved as 'moderated_comments_bert.csv' and 'moderated_comments_bert.xlsx'\")\n"
      ],
      "metadata": {
        "colab": {
          "base_uri": "https://localhost:8080/"
        },
        "id": "wO4QEAZmGa16",
        "outputId": "2d66adaa-46cb-4884-d4dc-b87f5ada21f2"
      },
      "execution_count": 8,
      "outputs": [
        {
          "output_type": "stream",
          "name": "stdout",
          "text": [
            "✅ File loaded.\n",
            "   comment_id username                    comment_text\n",
            "0           1   user_1       Nice work on the project.\n",
            "1           2   user_2      Nobody likes you, go away.\n",
            "2           3   user_3  I'm grateful for your support.\n",
            "3           4   user_4        I really like your idea.\n",
            "4           5   user_5        I really like your idea.\n",
            "⏳ Loading model...\n"
          ]
        },
        {
          "output_type": "stream",
          "name": "stderr",
          "text": [
            "Device set to use cuda:0\n"
          ]
        },
        {
          "output_type": "stream",
          "name": "stdout",
          "text": [
            "✅ Model loaded.\n",
            "✅ Done! Files saved as 'moderated_comments_bert.csv' and 'moderated_comments_bert.xlsx'\n"
          ]
        }
      ]
    },
    {
      "cell_type": "code",
      "source": [],
      "metadata": {
        "id": "VSzkskpQIfnA"
      },
      "execution_count": 6,
      "outputs": []
    }
  ]
}